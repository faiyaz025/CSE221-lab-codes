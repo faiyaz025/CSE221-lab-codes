{
  "nbformat": 4,
  "nbformat_minor": 0,
  "metadata": {
    "colab": {
      "provenance": [],
      "authorship_tag": "ABX9TyMujUEtpPZosiqQG7oEdcjq",
      "include_colab_link": true
    },
    "kernelspec": {
      "name": "python3",
      "display_name": "Python 3"
    },
    "language_info": {
      "name": "python"
    }
  },
  "cells": [
    {
      "cell_type": "markdown",
      "metadata": {
        "id": "view-in-github",
        "colab_type": "text"
      },
      "source": [
        "<a href=\"https://colab.research.google.com/github/faiyaz025/CSE221-lab-codes/blob/main/CSE221_Lab1.ipynb\" target=\"_parent\"><img src=\"https://colab.research.google.com/assets/colab-badge.svg\" alt=\"Open In Colab\"/></a>"
      ]
    },
    {
      "cell_type": "markdown",
      "source": [
        "Task A\n"
      ],
      "metadata": {
        "id": "DRRCyavDncVh"
      }
    },
    {
      "cell_type": "code",
      "execution_count": null,
      "metadata": {
        "colab": {
          "base_uri": "https://localhost:8080/"
        },
        "id": "3q2JHAsVenBI",
        "outputId": "6e6bcb76-9991-4070-9869-2cca6282a30f"
      },
      "outputs": [
        {
          "output_type": "stream",
          "name": "stdout",
          "text": [
            "5\n",
            "10\n",
            "10 is an Even number.\n",
            "19\n",
            "19 is an Odd number.\n",
            "7\n",
            "7 is an Odd number.\n",
            "3\n",
            "3 is an Odd number.\n",
            "100\n",
            "100 is an Even number.\n"
          ]
        }
      ],
      "source": [
        "num = int(input())\n",
        "\n",
        "for i in range(num):\n",
        "  n = int(input())\n",
        "  if n % 2 == 0:\n",
        "      print(f\"{n} is an Even number.\")\n",
        "  else:\n",
        "      print(f\"{n} is an Odd number.\")\n"
      ]
    },
    {
      "cell_type": "markdown",
      "source": [
        "Task B"
      ],
      "metadata": {
        "id": "7bs_rwJ8nhHr"
      }
    },
    {
      "cell_type": "code",
      "source": [
        "T = int(input())  # Read number of test cases\n",
        "for _ in range(T):\n",
        "        line = input()\n",
        "        parts = line.split()\n",
        "        num1 = int(parts[1])\n",
        "        operation = parts[2]\n",
        "        num2 = int(parts[3])\n",
        "\n",
        "        if operation == '+':\n",
        "            print(num1 + num2)\n",
        "        elif operation == '-':\n",
        "            print(num1 - num2)\n",
        "        elif operation == '*':\n",
        "            print(num1 * num2)\n",
        "        elif operation == '/':\n",
        "            print(f\"{num1 / num2:.6f}\")"
      ],
      "metadata": {
        "colab": {
          "base_uri": "https://localhost:8080/"
        },
        "id": "lZnYDNcfj5cQ",
        "outputId": "4d26005b-813f-45f5-e953-990e7f8d6903"
      },
      "execution_count": null,
      "outputs": [
        {
          "output_type": "stream",
          "name": "stdout",
          "text": [
            "1\n",
            "calculate 67 + 41\n",
            "108\n"
          ]
        }
      ]
    },
    {
      "cell_type": "markdown",
      "source": [
        "Task C"
      ],
      "metadata": {
        "id": "hdJbMnc5njDx"
      }
    },
    {
      "cell_type": "code",
      "source": [
        "length = int(input())\n",
        "rev = int(input())\n",
        "temp = []\n",
        "for i in range(length):\n",
        "  temp.append(int(input()))\n",
        "\n",
        "new_arr = []\n",
        "\n",
        "for j in range(rev):\n",
        "  new_arr.append(temp[j])\n",
        "\n",
        "rev_arr = new_arr[::-1]\n",
        "for i in range(len(rev_arr)):\n",
        "  print(int(rev_arr[i]),end=\" \")"
      ],
      "metadata": {
        "colab": {
          "base_uri": "https://localhost:8080/"
        },
        "id": "Em4rSe8Wkl2Z",
        "outputId": "3ff42049-9fd4-4507-b269-64464b242ee7"
      },
      "execution_count": null,
      "outputs": [
        {
          "output_type": "stream",
          "name": "stdout",
          "text": [
            "5\n",
            "3\n",
            "5\n",
            "6\n",
            "7\n",
            "8\n",
            "9\n",
            "7 6 5 "
          ]
        }
      ]
    },
    {
      "cell_type": "markdown",
      "source": [
        "Task D"
      ],
      "metadata": {
        "id": "wwUg_lc1noce"
      }
    },
    {
      "cell_type": "code",
      "source": [
        "T = int(input())\n",
        "for i in range(T):\n",
        "    N = int(input())\n",
        "    print(N * (N + 1) // 2)"
      ],
      "metadata": {
        "colab": {
          "base_uri": "https://localhost:8080/"
        },
        "id": "7QjGVBOt0ifs",
        "outputId": "9acd3220-6226-4672-ae1e-61edd1660713"
      },
      "execution_count": null,
      "outputs": [
        {
          "output_type": "stream",
          "name": "stdout",
          "text": [
            "5\n",
            "2\n",
            "3\n",
            "5\n",
            "15\n",
            "10\n",
            "55\n",
            "12\n",
            "78\n",
            "100\n",
            "5050\n"
          ]
        }
      ]
    },
    {
      "cell_type": "markdown",
      "source": [
        "Task E"
      ],
      "metadata": {
        "id": "WM2GGX8En0uS"
      }
    },
    {
      "cell_type": "code",
      "source": [
        "def bubbleSort(arr, n):\n",
        "    for i in range(n - 1):\n",
        "        swap = False\n",
        "        for j in range(n - 1 - i):\n",
        "            if arr[j] > arr[j + 1]:\n",
        "                arr[j], arr[j + 1] = arr[j + 1], arr[j]\n",
        "                swap = True\n",
        "        if not swap:\n",
        "            break\n",
        "\n",
        "\n",
        "N = int(input())\n",
        "arr = input().split()\n",
        "for i in range(N):\n",
        "    arr[i] = int(arr[i])\n",
        "\n",
        "bubbleSort(arr, N)\n",
        "\n",
        "for i in range(N):\n",
        "    if i != N - 1:\n",
        "        print(arr[i], end=\" \")\n",
        "    else:\n",
        "        print(arr[i])"
      ],
      "metadata": {
        "colab": {
          "base_uri": "https://localhost:8080/"
        },
        "id": "1QCchr0-oCOz",
        "outputId": "2c7ac9dd-8bc7-4819-cb3b-c747a99c6eb2"
      },
      "execution_count": null,
      "outputs": [
        {
          "output_type": "stream",
          "name": "stdout",
          "text": [
            "5\n",
            "3 2 1 4 5\n",
            "1 2 3 4 5\n"
          ]
        }
      ]
    },
    {
      "cell_type": "markdown",
      "source": [
        "Task F"
      ],
      "metadata": {
        "id": "8uPvsbvFoEyt"
      }
    },
    {
      "cell_type": "code",
      "source": [
        "n = int(input())\n",
        "a = list(map(int, input().split()))\n",
        "b = list(map(int, input().split()))\n",
        "\n",
        "swap_count = 0\n",
        "\n",
        "for i in range(n):\n",
        "    max_idx = i\n",
        "    for j in range(i + 1, n):\n",
        "        if b[j] > b[max_idx] or (b[j] == b[max_idx] and a[j] < a[max_idx]):\n",
        "            max_idx = j\n",
        "\n",
        "    if max_idx != i:\n",
        "        a[i], a[max_idx] = a[max_idx], a[i]\n",
        "        b[i], b[max_idx] = b[max_idx], b[i]\n",
        "        swap_count += 1\n",
        "\n",
        "print(f'Minimum swaps: {swap_count}')\n",
        "for id_, mark in zip(a, b):\n",
        "    print(f'ID: {id_} Mark: {mark}')"
      ],
      "metadata": {
        "colab": {
          "base_uri": "https://localhost:8080/"
        },
        "id": "uIIDRTTEaX8d",
        "outputId": "d365ad87-d115-4971-e95c-c9c1852c6092"
      },
      "execution_count": null,
      "outputs": [
        {
          "output_type": "stream",
          "name": "stdout",
          "text": [
            "7\n",
            "7 4 9 3 2 5 1\n",
            "40 50 50 20 10 10 10\n",
            "Minimum swaps: 4\n",
            "ID: 4 Mark: 50\n",
            "ID: 9 Mark: 50\n",
            "ID: 7 Mark: 40\n",
            "ID: 3 Mark: 20\n",
            "ID: 1 Mark: 10\n",
            "ID: 2 Mark: 10\n",
            "ID: 5 Mark: 10\n"
          ]
        }
      ]
    },
    {
      "cell_type": "markdown",
      "source": [
        "Task G"
      ],
      "metadata": {
        "id": "1K8osKvsoVS2"
      }
    },
    {
      "cell_type": "code",
      "source": [
        "n = int(input())\n",
        "temp = []\n",
        "for i in range(n):\n",
        "  new = input().split()\n",
        "  temp+=[new]\n",
        "\n",
        "for i in range(n-1):\n",
        "  for j in range(n-1-i):\n",
        "    if temp[j][0]>temp[j+1][0]:\n",
        "      temp[j],temp[j+1] = temp[j+1],temp[j]\n",
        "    elif temp[j][0]==temp[j+1][0] and temp[j][6]<temp[j+1][6]:\n",
        "      temp[j],temp[j+1]=temp[j+1],temp[j]\n",
        "\n",
        "for i in range(n):\n",
        "  print(\" \".join(temp[i]))\n"
      ],
      "metadata": {
        "colab": {
          "base_uri": "https://localhost:8080/"
        },
        "id": "AzIL6enlUOO_",
        "outputId": "c47a080b-a0dc-452d-e3e2-d95e6d431ce3"
      },
      "execution_count": null,
      "outputs": [
        {
          "output_type": "stream",
          "name": "stdout",
          "text": [
            "8\n",
            "ABCD will departure for Mymensingh at 00:30\n",
            "DhumketuExpress will departure for Chittagong at 02:30\n",
            "ABC will departure for Dhaka at 17:30\n",
            "ABCD will departure for Chittagong at 01:00\n",
            "ABC will departure for Khulna at 03:00\n",
            "ABC will departure for Barisal at 03:00\n",
            "ABCE will departure for Sylhet at 23:05\n",
            "PadmaExpress will departure for Dhaka at 19:30\n",
            "ABC will departure for Dhaka at 17:30\n",
            "ABC will departure for Khulna at 03:00\n",
            "ABC will departure for Barisal at 03:00\n",
            "ABCD will departure for Chittagong at 01:00\n",
            "ABCD will departure for Mymensingh at 00:30\n",
            "ABCE will departure for Sylhet at 23:05\n",
            "DhumketuExpress will departure for Chittagong at 02:30\n",
            "PadmaExpress will departure for Dhaka at 19:30\n"
          ]
        }
      ]
    },
    {
      "cell_type": "code",
      "source": [
        "n = int(input())\n",
        "trains = [input().split() for _ in range(n)]\n",
        "\n",
        "for i in range(n - 1):\n",
        "    for j in range(n - 1 - i):\n",
        "        if trains[j][0] > trains[j + 1][0] or \\\n",
        "           (trains[j][0] == trains[j + 1][0] and trains[j][6] < trains[j + 1][6]):\n",
        "            trains[j], trains[j + 1] = trains[j + 1], trains[j]\n",
        "\n",
        "for train in trains:\n",
        "    print(\" \".join(train))"
      ],
      "metadata": {
        "colab": {
          "base_uri": "https://localhost:8080/"
        },
        "id": "yPdb6BA-ZbxY",
        "outputId": "5c6e699c-e20a-478c-d30d-afbcc4db62cc"
      },
      "execution_count": null,
      "outputs": [
        {
          "output_type": "stream",
          "name": "stdout",
          "text": [
            "8\n",
            "ABCD will departure for Mymensingh at 00:30\n",
            "DhumketuExpress will departure for Chittagong at 02:30\n",
            "ABC will departure for Dhaka at 17:30\n",
            "ABCD will departure for Chittagong at 01:00\n",
            "ABC will departure for Khulna at 03:00\n",
            "ABC will departure for Barisal at 03:00\n",
            "ABCE will departure for Sylhet at 23:05\n",
            "PadmaExpress will departure for Dhaka at 19:30\n",
            "ABC will departure for Dhaka at 17:30\n",
            "ABC will departure for Khulna at 03:00\n",
            "ABC will departure for Barisal at 03:00\n",
            "ABCD will departure for Chittagong at 01:00\n",
            "ABCD will departure for Mymensingh at 00:30\n",
            "ABCE will departure for Sylhet at 23:05\n",
            "DhumketuExpress will departure for Chittagong at 02:30\n",
            "PadmaExpress will departure for Dhaka at 19:30\n"
          ]
        }
      ]
    }
  ]
}