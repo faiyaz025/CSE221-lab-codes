{
  "nbformat": 4,
  "nbformat_minor": 0,
  "metadata": {
    "colab": {
      "provenance": [],
      "authorship_tag": "ABX9TyMzj+/KGi36E216hOb4PnOw",
      "include_colab_link": true
    },
    "kernelspec": {
      "name": "python3",
      "display_name": "Python 3"
    },
    "language_info": {
      "name": "python"
    }
  },
  "cells": [
    {
      "cell_type": "markdown",
      "metadata": {
        "id": "view-in-github",
        "colab_type": "text"
      },
      "source": [
        "<a href=\"https://colab.research.google.com/github/faiyaz025/CSE221-lab-codes/blob/main/CSE221_Lab8.ipynb\" target=\"_parent\"><img src=\"https://colab.research.google.com/assets/colab-badge.svg\" alt=\"Open In Colab\"/></a>"
      ]
    },
    {
      "cell_type": "markdown",
      "source": [
        "Task A"
      ],
      "metadata": {
        "id": "dLhx88MnMJcN"
      }
    },
    {
      "cell_type": "code",
      "execution_count": null,
      "metadata": {
        "id": "1DuiGJaPL0E6"
      },
      "outputs": [],
      "source": [
        "num_nodes, num_queries = map(int, input().split())\n",
        "leaders = list(range(num_nodes + 1))\n",
        "component_size = [1] * (num_nodes + 1)\n",
        "\n",
        "def get_leader(x):\n",
        "    if leaders[x] != x:\n",
        "        leaders[x] = get_leader(leaders[x])\n",
        "    return leaders[x]\n",
        "\n",
        "def join_sets(x, y):\n",
        "    root_x = get_leader(x)\n",
        "    root_y = get_leader(y)\n",
        "    if root_x == root_y:\n",
        "        return component_size[root_x]\n",
        "    if component_size[root_x] < component_size[root_y]:\n",
        "        root_x, root_y = root_y, root_x\n",
        "    leaders[root_y] = root_x\n",
        "    component_size[root_x] += component_size[root_y]\n",
        "    return component_size[root_x]\n",
        "\n",
        "for _ in range(num_queries):\n",
        "    u, v = map(int, input().split())\n",
        "    print(join_sets(u, v))"
      ]
    },
    {
      "cell_type": "markdown",
      "source": [
        "Task B"
      ],
      "metadata": {
        "id": "2tPZ2fyTMPSr"
      }
    },
    {
      "cell_type": "code",
      "source": [
        "def get_root(parents, node):\n",
        "    if parents[node] != node:\n",
        "        parents[node] = get_root(parents, parents[node])\n",
        "    return parents[node]\n",
        "\n",
        "def merge_sets(parents, heights, a, b):\n",
        "    root_a = get_root(parents, a)\n",
        "    root_b = get_root(parents, b)\n",
        "    if root_a == root_b:\n",
        "        return False\n",
        "    if heights[root_a] < heights[root_b]:\n",
        "        parents[root_a] = root_b\n",
        "    else:\n",
        "        parents[root_b] = root_a\n",
        "        if heights[root_a] == heights[root_b]:\n",
        "            heights[root_a] += 1\n",
        "    return True\n",
        "\n",
        "nodes, edges_count = map(int, input().split())\n",
        "all_edges = []\n",
        "\n",
        "for _ in range(edges_count):\n",
        "    src, dest, weight = map(int, input().split())\n",
        "    all_edges.append((weight, src, dest))\n",
        "\n",
        "all_edges.sort()\n",
        "\n",
        "parents = list(range(nodes + 1))\n",
        "heights = [0] * (nodes + 1)\n",
        "\n",
        "total_cost = 0\n",
        "for weight, src, dest in all_edges:\n",
        "    if merge_sets(parents, heights, src, dest):\n",
        "        total_cost += weight\n",
        "\n",
        "print(total_cost)"
      ],
      "metadata": {
        "id": "58cchvNQMP-C"
      },
      "execution_count": null,
      "outputs": []
    },
    {
      "cell_type": "markdown",
      "source": [
        "Task C"
      ],
      "metadata": {
        "id": "W4gSwt-mMTgf"
      }
    },
    {
      "cell_type": "code",
      "source": [
        "class DSU:\n",
        "    def __init__(self, n):\n",
        "        self.parent = list(range(n))\n",
        "        self.rank = [1] * n\n",
        "\n",
        "    def find(self, i):\n",
        "        if self.parent[i] != i:\n",
        "            self.parent[i] = self.find(self.parent[i])\n",
        "        return self.parent[i]\n",
        "\n",
        "    def unite(self, x, y):\n",
        "        rootX = self.find(x)\n",
        "        rootY = self.find(y)\n",
        "        if rootX == rootY:\n",
        "            return False\n",
        "        if self.rank[rootX] < self.rank[rootY]:\n",
        "            self.parent[rootX] = rootY\n",
        "        elif self.rank[rootX] > self.rank[rootY]:\n",
        "            self.parent[rootY] = rootX\n",
        "        else:\n",
        "            self.parent[rootY] = rootX\n",
        "            self.rank[rootX] += 1\n",
        "        return True\n",
        "\n",
        "def dfs_strictly_smaller(u, v, limit, adj, vis, stamp):\n",
        "    stack = [(u, -1)]\n",
        "    while stack:\n",
        "        node, max_below = stack.pop()\n",
        "        if node == v:\n",
        "            return max_below\n",
        "        if vis[node] == stamp:\n",
        "            continue\n",
        "        vis[node] = stamp\n",
        "        for nei, w in adj[node]:\n",
        "            if vis[nei] != stamp:\n",
        "                best = max_below\n",
        "                if w < limit and w > max_below:\n",
        "                    best = w\n",
        "                stack.append((nei, best))\n",
        "    return -1\n",
        "\n",
        "def secondMST(n, edges):\n",
        "    edges.sort()\n",
        "    dsu = DSU(n)\n",
        "    mst_cost = 0\n",
        "    adj = [[] for _ in range(n)]\n",
        "    used = [False] * len(edges)\n",
        "\n",
        "    for i, (w, u, v) in enumerate(edges):\n",
        "        if dsu.unite(u, v):\n",
        "            used[i] = True\n",
        "            mst_cost += w\n",
        "            adj[u].append((v, w))\n",
        "            adj[v].append((u, w))\n",
        "\n",
        "    if sum(used) != n - 1:\n",
        "        return -1\n",
        "\n",
        "    vis = [0] * n\n",
        "    stamp = 1\n",
        "    res = float('inf')\n",
        "\n",
        "    for i, (w, u, v) in enumerate(edges):\n",
        "        if used[i]:\n",
        "            continue\n",
        "        stamp += 1\n",
        "        smaller = dfs_strictly_smaller(u, v, w, adj, vis, stamp)\n",
        "        if smaller != -1:\n",
        "            new_cost = mst_cost - smaller + w\n",
        "            if new_cost > mst_cost:\n",
        "                res = min(res, new_cost)\n",
        "\n",
        "    return -1 if res == float('inf') else res\n",
        "\n",
        "# Input handling\n",
        "n, m = map(int, input().split())\n",
        "edges = []\n",
        "for _ in range(m):\n",
        "    u, v, w = map(int, input().split())\n",
        "    edges.append((w, u - 1, v - 1))\n",
        "\n",
        "print(secondMST(n, edges))"
      ],
      "metadata": {
        "id": "59g84bSdMUOn"
      },
      "execution_count": null,
      "outputs": []
    }
  ]
}