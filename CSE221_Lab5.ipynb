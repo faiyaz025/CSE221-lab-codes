{
  "nbformat": 4,
  "nbformat_minor": 0,
  "metadata": {
    "colab": {
      "provenance": [],
      "authorship_tag": "ABX9TyOgODtSA1XzfdwybcCH3cdJ",
      "include_colab_link": true
    },
    "kernelspec": {
      "name": "python3",
      "display_name": "Python 3"
    },
    "language_info": {
      "name": "python"
    }
  },
  "cells": [
    {
      "cell_type": "markdown",
      "metadata": {
        "id": "view-in-github",
        "colab_type": "text"
      },
      "source": [
        "<a href=\"https://colab.research.google.com/github/faiyaz025/CSE221-lab-codes/blob/main/CSE221_Lab5.ipynb\" target=\"_parent\"><img src=\"https://colab.research.google.com/assets/colab-badge.svg\" alt=\"Open In Colab\"/></a>"
      ]
    },
    {
      "cell_type": "markdown",
      "source": [
        "Task A"
      ],
      "metadata": {
        "id": "9CyUoiftKFJB"
      }
    },
    {
      "cell_type": "code",
      "execution_count": null,
      "metadata": {
        "id": "gfUIpSHfJWLr"
      },
      "outputs": [],
      "source": [
        "from collections import deque\n",
        "\n",
        "nodes, edges = map(int, input().split())\n",
        "adj_list = [[] for _ in range(nodes + 1)]\n",
        "\n",
        "for _ in range(edges):\n",
        "    a, b = map(int, input().split())\n",
        "    adj_list[a].append(b)\n",
        "    adj_list[b].append(a)\n",
        "\n",
        "for neighbors in adj_list:\n",
        "    neighbors.sort()\n",
        "\n",
        "visited = [0] * (nodes + 1)\n",
        "queue = deque()\n",
        "bfs_result = []\n",
        "\n",
        "start_node = 1\n",
        "visited[start_node] = 1\n",
        "queue.append(start_node)\n",
        "\n",
        "while queue:\n",
        "    current = queue.popleft()\n",
        "    bfs_result.append(current)\n",
        "    for neighbor in adj_list[current]:\n",
        "        if visited[neighbor] == 0:\n",
        "            visited[neighbor] = 1\n",
        "            queue.append(neighbor)\n",
        "\n",
        "print(' '.join(map(str, bfs_result)))"
      ]
    },
    {
      "cell_type": "markdown",
      "source": [
        "Task B"
      ],
      "metadata": {
        "id": "DhNEKqudKJmk"
      }
    },
    {
      "cell_type": "code",
      "source": [
        "import sys\n",
        "input = sys.stdin.readline\n",
        "\n",
        "n, m = map(int, input().split())\n",
        "a = list(map(int, input().split()))\n",
        "b = list(map(int, input().split()))\n",
        "\n",
        "adj = [[] for _ in range(n + 1)]\n",
        "for x, y in zip(a, b):\n",
        "    adj[x].append(y)\n",
        "    adj[y].append(x)\n",
        "\n",
        "for neighbors in adj:\n",
        "    neighbors.sort()  # Optional: remove if order isn't important\n",
        "\n",
        "visited = [0] * (n + 1)\n",
        "result = []\n",
        "\n",
        "def dfs_iterative(start):\n",
        "    stack = [start]\n",
        "    while stack:\n",
        "        node = stack.pop()\n",
        "        if not visited[node]:\n",
        "            visited[node] = 1\n",
        "            result.append(node)\n",
        "            # Reverse to maintain order similar to recursive DFS\n",
        "            for neighbor in reversed(adj[node]):\n",
        "                if not visited[neighbor]:\n",
        "                    stack.append(neighbor)\n",
        "\n",
        "dfs_iterative(1)\n",
        "print(*result)"
      ],
      "metadata": {
        "id": "x34zav8gKKwk"
      },
      "execution_count": null,
      "outputs": []
    },
    {
      "cell_type": "markdown",
      "source": [
        "Task C"
      ],
      "metadata": {
        "id": "zlzJtWKLKOfj"
      }
    },
    {
      "cell_type": "code",
      "source": [
        "from collections import deque\n",
        "\n",
        "n, m, s, d = [int(x) for x in input().split()]\n",
        "\n",
        "adj = [[] for _ in range(n + 1)]\n",
        "\n",
        "u_list = [int(x) for x in input().split()]\n",
        "v_list = [int(x) for x in input().split()]\n",
        "for i in range(m):\n",
        "    u = u_list[i]\n",
        "    v = v_list[i]\n",
        "    adj[u].append(v)\n",
        "    adj[v].append(u)\n",
        "\n",
        "for i in range(1, n + 1):\n",
        "    if adj[i]:\n",
        "        adj[i].sort()\n",
        "\n",
        "visited = bytearray(n + 1)\n",
        "parent = [-1] * (n + 1)\n",
        "distance = [-1] * (n + 1)\n",
        "\n",
        "def bfs(start):\n",
        "    q = deque([start])\n",
        "    visited[start] = 1\n",
        "    distance[start] = 0\n",
        "    while q:\n",
        "        node = q.popleft()\n",
        "        for neighbor in adj[node]:\n",
        "            if not visited[neighbor]:\n",
        "                visited[neighbor] = 1\n",
        "                distance[neighbor] = distance[node] + 1\n",
        "                parent[neighbor] = node\n",
        "                q.append(neighbor)\n",
        "                if neighbor == d:\n",
        "                    continue\n",
        "\n",
        "bfs(s)\n",
        "\n",
        "if not visited[d]:\n",
        "    print(-1)\n",
        "else:\n",
        "    path = []\n",
        "    cur = d\n",
        "    while cur != -1:\n",
        "        path.append(cur)\n",
        "        cur = parent[cur]\n",
        "    print(len(path) - 1)\n",
        "    print(' '.join(str(x) for x in reversed(path)))"
      ],
      "metadata": {
        "id": "Rj_243ykKPFB"
      },
      "execution_count": null,
      "outputs": []
    },
    {
      "cell_type": "markdown",
      "source": [
        "Task D"
      ],
      "metadata": {
        "id": "CVBwljjZKXQi"
      }
    },
    {
      "cell_type": "code",
      "source": [
        "from collections import deque\n",
        "\n",
        "n, m, s, d, k = [int(x) for x in input().split()]\n",
        "adj = [[] for _ in range(n + 1)]\n",
        "\n",
        "for _ in range(m):\n",
        "    u, v = [int(x) for x in input().split()]\n",
        "    adj[u].append(v)\n",
        "\n",
        "def bfs(start, end):\n",
        "    visited = bytearray(n + 1)\n",
        "    parent = [-1] * (n + 1)\n",
        "    q = deque([start])\n",
        "    visited[start] = 1\n",
        "\n",
        "    while q:\n",
        "        curr = q.popleft()\n",
        "        if curr == end:\n",
        "            break\n",
        "        for nei in adj[curr]:\n",
        "            if not visited[nei]:\n",
        "                visited[nei] = 1\n",
        "                parent[nei] = curr\n",
        "                q.append(nei)\n",
        "\n",
        "    if not visited[end]:\n",
        "        return None\n",
        "\n",
        "    path = []\n",
        "    while end != -1:\n",
        "        path.append(end)\n",
        "        end = parent[end]\n",
        "    return path[::-1]\n",
        "\n",
        "first_half = bfs(s, k)\n",
        "second_half = bfs(k, d)\n",
        "\n",
        "if not first_half or not second_half:\n",
        "    print(-1)\n",
        "else:\n",
        "    # Avoid duplicating the middle node\n",
        "    full_path = first_half + second_half[1:]\n",
        "    print(len(full_path) - 1)\n",
        "    print(' '.join(str(x) for x in full_path))"
      ],
      "metadata": {
        "id": "rnok9BsFKYBY"
      },
      "execution_count": null,
      "outputs": []
    },
    {
      "cell_type": "markdown",
      "source": [
        "Task E"
      ],
      "metadata": {
        "id": "HBZNrBA3Kb5d"
      }
    },
    {
      "cell_type": "code",
      "source": [
        "import sys\n",
        "input = sys.stdin.readline\n",
        "\n",
        "n, m = map(int, input().split())\n",
        "g = [[] for _ in range(n + 1)]\n",
        "for _ in range(m):\n",
        "    u, v = map(int, input().split())\n",
        "    g[u].append(v)\n",
        "\n",
        "color = [0] * (n + 1)  # 0: unvisited, 1: visiting, 2: visited\n",
        "\n",
        "def dfs_iter(start):\n",
        "    stack = [(start, 0)]\n",
        "    while stack:\n",
        "        u, state = stack.pop()\n",
        "        if state == 0:\n",
        "            if color[u] == 1:\n",
        "                return True\n",
        "            if color[u] == 2:\n",
        "                continue\n",
        "            color[u] = 1\n",
        "            stack.append((u, 1))\n",
        "            for v in reversed(g[u]):\n",
        "                if color[v] != 2:\n",
        "                    stack.append((v, 0))\n",
        "        else:\n",
        "            color[u] = 2\n",
        "    return False\n",
        "\n",
        "for i in range(1, n + 1):\n",
        "    if color[i] == 0 and dfs_iter(i):\n",
        "        print(\"YES\")\n",
        "        break\n",
        "else:\n",
        "    print(\"NO\")"
      ],
      "metadata": {
        "id": "4U9Pm3DaKdUU"
      },
      "execution_count": null,
      "outputs": []
    },
    {
      "cell_type": "markdown",
      "source": [
        "Task F"
      ],
      "metadata": {
        "id": "wclLRZGRKhRP"
      }
    },
    {
      "cell_type": "code",
      "source": [
        "from collections import deque\n",
        "\n",
        "def find_max_diamonds(mat, rows, cols):\n",
        "    seen = [[0]*cols for _ in range(rows)]\n",
        "    result = 0\n",
        "    moves = [(0,1), (1,0), (-1,0), (0,-1)]\n",
        "\n",
        "    def explore(sr, sc):\n",
        "        q = deque([(sr, sc)])\n",
        "        seen[sr][sc] = 1\n",
        "        count = 0\n",
        "        while q:\n",
        "            x, y = q.popleft()\n",
        "            if mat[x][y] == 'D':\n",
        "                count += 1\n",
        "            for dx, dy in moves:\n",
        "                nx, ny = x + dx, y + dy\n",
        "                if 0 <= nx < rows and 0 <= ny < cols:\n",
        "                    if not seen[nx][ny] and mat[nx][ny] != '#':\n",
        "                        seen[nx][ny] = 1\n",
        "                        q.append((nx, ny))\n",
        "        return count\n",
        "\n",
        "    for x in range(rows):\n",
        "        for y in range(cols):\n",
        "            if not seen[x][y] and mat[x][y] != '#':\n",
        "                result = max(result, explore(x, y))\n",
        "    return result\n",
        "\n",
        "r, c = map(int, input().split())\n",
        "grid_data = [input().strip() for _ in range(r)]\n",
        "print(find_max_diamonds(grid_data, r, c))"
      ],
      "metadata": {
        "id": "094ID_VLKh1Z"
      },
      "execution_count": null,
      "outputs": []
    }
  ]
}