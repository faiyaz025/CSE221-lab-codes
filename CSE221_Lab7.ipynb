{
  "nbformat": 4,
  "nbformat_minor": 0,
  "metadata": {
    "colab": {
      "provenance": [],
      "authorship_tag": "ABX9TyMtdzM0yoPWfaUxbmcMTCdo",
      "include_colab_link": true
    },
    "kernelspec": {
      "name": "python3",
      "display_name": "Python 3"
    },
    "language_info": {
      "name": "python"
    }
  },
  "cells": [
    {
      "cell_type": "markdown",
      "metadata": {
        "id": "view-in-github",
        "colab_type": "text"
      },
      "source": [
        "<a href=\"https://colab.research.google.com/github/faiyaz025/CSE221-lab-codes/blob/main/CSE221_Lab7.ipynb\" target=\"_parent\"><img src=\"https://colab.research.google.com/assets/colab-badge.svg\" alt=\"Open In Colab\"/></a>"
      ]
    },
    {
      "cell_type": "markdown",
      "source": [
        "Task A"
      ],
      "metadata": {
        "id": "kbAoD0D0iDaF"
      }
    },
    {
      "cell_type": "code",
      "execution_count": null,
      "metadata": {
        "id": "pBg_xRXsh-wj"
      },
      "outputs": [],
      "source": [
        "import heapq\n",
        "\n",
        "num_nodes, num_edges, start, dest = map(int, input().split())\n",
        "from_nodes = list(map(int, input().split()))\n",
        "to_nodes = list(map(int, input().split()))\n",
        "weights = list(map(int, input().split()))\n",
        "\n",
        "graph = [[] for _ in range(num_nodes + 1)]\n",
        "for i in range(num_edges):\n",
        "    graph[from_nodes[i]].append((to_nodes[i], weights[i]))\n",
        "\n",
        "prev_node = [None] * (num_nodes + 1)\n",
        "min_dist = [float('inf')] * (num_nodes + 1)\n",
        "min_dist[start] = 0\n",
        "priority_queue = [(0, start)]\n",
        "\n",
        "while priority_queue:\n",
        "    current_dist, current_node = heapq.heappop(priority_queue)\n",
        "    if current_dist <= min_dist[current_node]:\n",
        "        for neighbor, edge_weight in graph[current_node]:\n",
        "            if min_dist[current_node] + edge_weight < min_dist[neighbor]:\n",
        "                min_dist[neighbor] = min_dist[current_node] + edge_weight\n",
        "                prev_node[neighbor] = current_node\n",
        "                heapq.heappush(priority_queue, (min_dist[neighbor], neighbor))\n",
        "\n",
        "if min_dist[dest] == float('inf'):\n",
        "    print(-1)\n",
        "else:\n",
        "    path = []\n",
        "    node = dest\n",
        "    while node is not None:\n",
        "        path.append(str(node))\n",
        "        node = prev_node[node]\n",
        "    path.reverse()\n",
        "    print(min_dist[dest])\n",
        "    print(\" \".join(path))\n"
      ]
    },
    {
      "cell_type": "markdown",
      "source": [
        "Task B"
      ],
      "metadata": {
        "id": "9KKrgI8tiFi0"
      }
    },
    {
      "cell_type": "code",
      "source": [
        "import heapq\n",
        "n, m, start1, start2 = map(int, input().split())\n",
        "graph = [[] for _ in range(n + 1)]\n",
        "for _ in range(m):\n",
        "    u, v, w = map(int, input().split())\n",
        "    graph[u].append((v, w))\n",
        "\n",
        "def dijkstra(n, graph, start):\n",
        "    distances = [float('inf')] * (n + 1)\n",
        "    distances[start] = 0\n",
        "    heap = [(0, start)]\n",
        "    while heap:\n",
        "        cost, node = heapq.heappop(heap)\n",
        "        if cost <= distances[node]:\n",
        "            for neighbor, weight in graph[node]:\n",
        "                if cost + weight < distances[neighbor]:\n",
        "                    distances[neighbor] = cost + weight\n",
        "                    heapq.heappush(heap, (distances[neighbor], neighbor))\n",
        "    return distances\n",
        "\n",
        "dist_from_start1 = dijkstra(n, graph, start1)\n",
        "dist_from_start2 = dijkstra(n, graph, start2)\n",
        "\n",
        "min_meeting_time = float(\"inf\")\n",
        "meeting_point = -1\n",
        "for i in range(1, n + 1):\n",
        "    if dist_from_start1[i] != float(\"inf\") and dist_from_start2[i] != float(\"inf\"):\n",
        "        max_time = max(dist_from_start1[i], dist_from_start2[i])\n",
        "        if max_time < min_meeting_time or (max_time == min_meeting_time and i < meeting_point):\n",
        "            min_meeting_time = max_time\n",
        "            meeting_point = i\n",
        "\n",
        "if meeting_point == -1:\n",
        "    print(-1)\n",
        "else:\n",
        "    print(f\"{min_meeting_time} {meeting_point}\")\n"
      ],
      "metadata": {
        "id": "1j9FGUENiGBZ"
      },
      "execution_count": null,
      "outputs": []
    },
    {
      "cell_type": "markdown",
      "source": [
        "Task C"
      ],
      "metadata": {
        "id": "kpk67hzCjpN3"
      }
    },
    {
      "cell_type": "code",
      "source": [
        "import heapq\n",
        "n_nodes, n_edges = map(int, input().split())\n",
        "adj = [[] for _ in range(n_nodes + 1)]\n",
        "for _ in range(n_edges):\n",
        "    a, b, weight = map(int, input().split())\n",
        "    adj[a].append((b, weight))\n",
        "    adj[b].append((a, weight))\n",
        "\n",
        "def modified_dijkstra(n, graph, start):\n",
        "    dist = [float('inf')] * (n + 1)\n",
        "    dist[start] = 0\n",
        "    pq = [(0, start)]\n",
        "    while pq:\n",
        "        cost, node = heapq.heappop(pq)\n",
        "        if cost <= dist[node]:\n",
        "            for neighbor, wt in graph[node]:\n",
        "                new_cost = max(cost, wt)\n",
        "                if new_cost < dist[neighbor]:\n",
        "                    dist[neighbor] = new_cost\n",
        "                    heapq.heappush(pq, (new_cost, neighbor))\n",
        "    return dist\n",
        "\n",
        "result = modified_dijkstra(n_nodes, adj, 1)\n",
        "for i in range(1, n_nodes + 1):\n",
        "    if result[i] == float('inf'):\n",
        "        result[i] = -1\n",
        "print(\" \".join(map(str, result[1:])))\n"
      ],
      "metadata": {
        "id": "rFC0yKTJjs3k"
      },
      "execution_count": null,
      "outputs": []
    },
    {
      "cell_type": "markdown",
      "source": [
        "Task D"
      ],
      "metadata": {
        "id": "TtbVFxxPjxwd"
      }
    },
    {
      "cell_type": "code",
      "source": [
        "import heapq\n",
        "n_nodes, n_edges, source, dest = map(int, input().split())\n",
        "adjacency_list = [[] for _ in range(n_nodes + 1)]\n",
        "node_weights = list(map(int, input().split()))\n",
        "for _ in range(n_edges):\n",
        "    from_node, to_node = map(int, input().split())\n",
        "    adjacency_list[from_node].append(to_node)\n",
        "\n",
        "path_costs = [float('inf')] * (n_nodes + 1)\n",
        "path_costs[source] = node_weights[source - 1]\n",
        "queue = [(node_weights[source - 1], source)]\n",
        "\n",
        "while queue:\n",
        "    current_cost, current_node = heapq.heappop(queue)\n",
        "    if current_cost <= path_costs[current_node]:\n",
        "        for neighbor in adjacency_list[current_node]:\n",
        "            new_cost = path_costs[current_node] + node_weights[neighbor - 1]\n",
        "            if new_cost < path_costs[neighbor]:\n",
        "                path_costs[neighbor] = new_cost\n",
        "                heapq.heappush(queue, (new_cost, neighbor))\n",
        "\n",
        "if path_costs[dest] == float('inf'):\n",
        "    print(-1)\n",
        "else:\n",
        "    print(path_costs[dest])\n"
      ],
      "metadata": {
        "id": "7snD2ep1jyVh"
      },
      "execution_count": null,
      "outputs": []
    },
    {
      "cell_type": "markdown",
      "source": [
        "Task E"
      ],
      "metadata": {
        "id": "JYFrvmYZjfwR"
      }
    },
    {
      "cell_type": "code",
      "source": [
        "import heapq\n",
        "nodes, edges = map(int, input().split())\n",
        "start_nodes = list(map(int, input().split()))\n",
        "end_nodes = list(map(int, input().split()))\n",
        "weights = list(map(int, input().split()))\n",
        "graph = [[] for _ in range(nodes + 1)]\n",
        "for idx in range(edges):\n",
        "    graph[start_nodes[idx]].append((end_nodes[idx], weights[idx]))\n",
        "distance = [[float('inf'), float('inf')] for _ in range(nodes + 1)]\n",
        "\n",
        "priority_queue = []\n",
        "for target, cost in graph[1]:\n",
        "    mod = cost % 2\n",
        "    distance[target][mod] = cost\n",
        "    heapq.heappush(priority_queue, (cost, target, mod))\n",
        "\n",
        "while priority_queue:\n",
        "    curr_cost, curr_node, curr_mod = heapq.heappop(priority_queue)\n",
        "    if curr_cost <= distance[curr_node][curr_mod]:\n",
        "        for neighbor, edge_cost in graph[curr_node]:\n",
        "            new_mod = edge_cost % 2\n",
        "            if new_mod != curr_mod:\n",
        "                if curr_cost + edge_cost < distance[neighbor][new_mod]:\n",
        "                    distance[neighbor][new_mod] = curr_cost + edge_cost\n",
        "                    heapq.heappush(priority_queue, (distance[neighbor][new_mod], neighbor, new_mod))\n",
        "\n",
        "if distance[nodes][0] == float('inf') and distance[nodes][1] == float('inf'):\n",
        "    print(-1)\n",
        "else:\n",
        "    print(min(distance[nodes][0], distance[nodes][1]))\n"
      ],
      "metadata": {
        "id": "-3h7NF5njgOV"
      },
      "execution_count": null,
      "outputs": []
    },
    {
      "cell_type": "markdown",
      "source": [
        "Task F"
      ],
      "metadata": {
        "id": "YL296uWFj4Nv"
      }
    },
    {
      "cell_type": "code",
      "source": [
        "import heapq\n",
        "\n",
        "num_nodes, num_edges, source, dest = map(int, input().split())\n",
        "graph = [[] for _ in range(num_nodes + 1)]\n",
        "\n",
        "for _ in range(num_edges):\n",
        "    node1, node2, weight = map(int, input().split())\n",
        "    graph[node1].append((node2, weight))\n",
        "    graph[node2].append((node1, weight))\n",
        "\n",
        "shortest = [float('inf')] * (num_nodes + 1)\n",
        "second_shortest = [float('inf')] * (num_nodes + 1)\n",
        "shortest[source] = 0\n",
        "priority_queue = [(0, source)]\n",
        "\n",
        "while priority_queue:\n",
        "    current_dist, current_node = heapq.heappop(priority_queue)\n",
        "    for neighbor, edge_weight in graph[current_node]:\n",
        "        new_dist = current_dist + edge_weight\n",
        "        if new_dist < shortest[neighbor]:\n",
        "            second_shortest[neighbor] = shortest[neighbor]\n",
        "            shortest[neighbor] = new_dist\n",
        "            heapq.heappush(priority_queue, (shortest[neighbor], neighbor))\n",
        "        elif shortest[neighbor] < new_dist < second_shortest[neighbor]:\n",
        "            second_shortest[neighbor] = new_dist\n",
        "            heapq.heappush(priority_queue, (second_shortest[neighbor], neighbor))\n",
        "\n",
        "if second_shortest[dest] == float('inf'):\n",
        "    print(-1)\n",
        "else:\n",
        "    print(second_shortest[dest])\n"
      ],
      "metadata": {
        "id": "KTgDWPJnj4ZJ"
      },
      "execution_count": null,
      "outputs": []
    }
  ]
}