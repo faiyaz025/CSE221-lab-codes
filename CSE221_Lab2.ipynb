{
  "nbformat": 4,
  "nbformat_minor": 0,
  "metadata": {
    "colab": {
      "provenance": [],
      "authorship_tag": "ABX9TyNTkjVqrddkNWyJmpvxwPTQ",
      "include_colab_link": true
    },
    "kernelspec": {
      "name": "python3",
      "display_name": "Python 3"
    },
    "language_info": {
      "name": "python"
    }
  },
  "cells": [
    {
      "cell_type": "markdown",
      "metadata": {
        "id": "view-in-github",
        "colab_type": "text"
      },
      "source": [
        "<a href=\"https://colab.research.google.com/github/faiyaz025/CSE221-lab-codes/blob/main/CSE221_Lab2.ipynb\" target=\"_parent\"><img src=\"https://colab.research.google.com/assets/colab-badge.svg\" alt=\"Open In Colab\"/></a>"
      ]
    },
    {
      "cell_type": "markdown",
      "source": [
        "Task A"
      ],
      "metadata": {
        "id": "ZcY-gvF_lSyF"
      }
    },
    {
      "cell_type": "code",
      "execution_count": null,
      "metadata": {
        "colab": {
          "base_uri": "https://localhost:8080/"
        },
        "id": "jqKt1R-Ut3Ir",
        "outputId": "31e6188e-4396-4fa4-ac33-17c555a4f6dd"
      },
      "outputs": [
        {
          "output_type": "stream",
          "name": "stdout",
          "text": [
            "6 18\n",
            "1 5 8 9 9 10\n",
            "3 6\n"
          ]
        }
      ],
      "source": [
        "num = input().split()\n",
        "tar = int(num[1])\n",
        "l = input().split()\n",
        "for i in range(len(l)):\n",
        "  l[i] = int(l[i])\n",
        "\n",
        "start = 0\n",
        "end = len(l) - 1\n",
        "while start<end:\n",
        "  sum = l[start]+l[end]\n",
        "  if sum>tar:\n",
        "    end = end - 1\n",
        "  elif sum<tar:\n",
        "    start = start + 1\n",
        "  else:\n",
        "    print(start+1,end+1)\n",
        "    break\n",
        "\n",
        "if sum!=tar:\n",
        "  print(-1)\n"
      ]
    },
    {
      "cell_type": "markdown",
      "source": [
        "Task B"
      ],
      "metadata": {
        "id": "o4PckLRSlW2b"
      }
    },
    {
      "cell_type": "code",
      "source": [
        "num1 = int(input())\n",
        "l1 = list(map(int,input().split()))\n",
        "n2 = int(input())\n",
        "l2 = list(map(int,input().split()))\n",
        "l3 = []\n",
        "start,end = 0,0\n",
        "while start<num1 and end<n2:\n",
        "  if l1[start]<=l2[end]:\n",
        "    l3.append(l1[start])\n",
        "    start = start + 1\n",
        "  else:\n",
        "    l3.append(l2[end])\n",
        "    end = end + 1\n",
        "while start<num1:\n",
        "  l3.append(l1[start])\n",
        "  start+=1\n",
        "while end<n2:\n",
        "  l3.append(l2[end])\n",
        "  end+=1\n",
        "print(*l3)"
      ],
      "metadata": {
        "colab": {
          "base_uri": "https://localhost:8080/"
        },
        "id": "5PGxkAdWvnMg",
        "outputId": "5e244e12-4745-40a0-f592-daa4965e3fc4"
      },
      "execution_count": null,
      "outputs": [
        {
          "output_type": "stream",
          "name": "stdout",
          "text": [
            "4\n",
            "1 3 5 7\n",
            "4\n",
            "2 2 4 8\n",
            "1 2 2 3 4 5 7 8\n"
          ]
        }
      ]
    },
    {
      "cell_type": "markdown",
      "source": [
        "Task C"
      ],
      "metadata": {
        "id": "IDLP8MF4lezr"
      }
    },
    {
      "cell_type": "code",
      "source": [
        "temp = input().split()\n",
        "num,val = int(temp[0]),int(temp[1])\n",
        "l = input().split()\n",
        "for i in range(len(l)):\n",
        "  l[i] = int(l[i])\n",
        "\n",
        "l2,highest,sum = 0,0,0\n",
        "for j in range(num):\n",
        "  sum+=l[j]\n",
        "  while sum>val:\n",
        "    sum-= l[l2]\n",
        "    l2+=1\n",
        "  if j-l2+1>highest:\n",
        "    highest = j-l2+1\n",
        "print(highest)"
      ],
      "metadata": {
        "colab": {
          "base_uri": "https://localhost:8080/"
        },
        "id": "DJWICA63yJyI",
        "outputId": "dc7d3ee7-bd26-442e-bd56-742613c08816"
      },
      "execution_count": null,
      "outputs": [
        {
          "output_type": "stream",
          "name": "stdout",
          "text": [
            "5 4\n",
            "4 1 2 1 5\n",
            "2\n"
          ]
        }
      ]
    },
    {
      "cell_type": "markdown",
      "source": [
        "Task D"
      ],
      "metadata": {
        "id": "O-5-VV6-lpru"
      }
    },
    {
      "cell_type": "code",
      "source": [
        "num = int(input())\n",
        "\n",
        "for _ in range(num):\n",
        "    binary_string = input().strip()\n",
        "    left, right = 0, len(binary_string) - 1\n",
        "    position = -1\n",
        "\n",
        "    while left <= right:\n",
        "        mid = (left + right) // 2\n",
        "\n",
        "        if binary_string[mid] == \"1\":\n",
        "            position = mid + 1\n",
        "            right = mid - 1\n",
        "        else:\n",
        "            left = mid + 1\n",
        "\n",
        "    print(position)"
      ],
      "metadata": {
        "colab": {
          "base_uri": "https://localhost:8080/"
        },
        "id": "MeyXiZqHlq6S",
        "outputId": "81befe3e-76da-4e8a-da75-3d3b64b9cbd3"
      },
      "execution_count": 1,
      "outputs": [
        {
          "output_type": "stream",
          "name": "stdout",
          "text": [
            "15\n",
            "0000011111111\n",
            "6\n",
            "00000111111111\n",
            "6\n",
            "00000\n",
            "-1\n",
            "0000\n",
            "-1\n",
            "1111\n",
            "1\n",
            "111\n",
            "1\n",
            "0\n",
            "-1\n",
            "1\n",
            "1\n",
            "01\n",
            "2\n",
            "01111\n",
            "2\n",
            "000000000000001\n",
            "15\n",
            "0000000000000001\n",
            "16\n",
            "0000000000000111111111111111111111\n",
            "14\n",
            "00000001111111111111111\n",
            "8\n",
            "0000000111111111111111111111111111\n",
            "8\n"
          ]
        }
      ]
    },
    {
      "cell_type": "markdown",
      "source": [
        "Task E"
      ],
      "metadata": {
        "id": "r2z-jcU4mMRW"
      }
    },
    {
      "cell_type": "code",
      "source": [
        "n, k = map(int, input().split())\n",
        "numbers = list(map(int, input().split()))\n",
        "\n",
        "for _ in range(k):\n",
        "    start, end = map(int, input().split())\n",
        "\n",
        "    left, right = 0, n\n",
        "    while left < right:\n",
        "        mid = (left + right) // 2\n",
        "        if numbers[mid] < start:\n",
        "            left = mid + 1\n",
        "        else:\n",
        "            right = mid\n",
        "\n",
        "    low, high = 0, n\n",
        "    while low < high:\n",
        "        mid = (low + high) // 2\n",
        "        if numbers[mid] <= end:\n",
        "            low = mid + 1\n",
        "        else:\n",
        "            high = mid\n",
        "\n",
        "    print(high - left)"
      ],
      "metadata": {
        "colab": {
          "base_uri": "https://localhost:8080/"
        },
        "id": "O7D7GyknmNc5",
        "outputId": "4cfd2375-9d9b-4379-f1eb-adfbedb74d8d"
      },
      "execution_count": 2,
      "outputs": [
        {
          "output_type": "stream",
          "name": "stdout",
          "text": [
            "5 3\n",
            "10 20 20 45 79\n",
            "20 50\n",
            "3\n",
            "5 45\n",
            "4\n",
            "1 100\n",
            "5\n"
          ]
        }
      ]
    }
  ]
}