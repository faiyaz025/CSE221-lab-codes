{
  "nbformat": 4,
  "nbformat_minor": 0,
  "metadata": {
    "colab": {
      "provenance": [],
      "authorship_tag": "ABX9TyPVFpB0MbiZcCjh8lV+D559",
      "include_colab_link": true
    },
    "kernelspec": {
      "name": "python3",
      "display_name": "Python 3"
    },
    "language_info": {
      "name": "python"
    }
  },
  "cells": [
    {
      "cell_type": "markdown",
      "metadata": {
        "id": "view-in-github",
        "colab_type": "text"
      },
      "source": [
        "<a href=\"https://colab.research.google.com/github/faiyaz025/CSE221-lab-codes/blob/main/CSE221_lab3.ipynb\" target=\"_parent\"><img src=\"https://colab.research.google.com/assets/colab-badge.svg\" alt=\"Open In Colab\"/></a>"
      ]
    },
    {
      "cell_type": "markdown",
      "source": [
        "Task A"
      ],
      "metadata": {
        "id": "7QWFnJfwn5wy"
      }
    },
    {
      "cell_type": "code",
      "execution_count": null,
      "metadata": {
        "id": "Rx39W2LflNJc",
        "colab": {
          "base_uri": "https://localhost:8080/"
        },
        "outputId": "e94c1013-99b8-465f-9ccb-9485247405b9"
      },
      "outputs": [
        {
          "output_type": "stream",
          "name": "stdout",
          "text": [
            "5\n",
            "1 2 5 4 3\n",
            "3\n",
            "1 2 3 4 5\n"
          ]
        }
      ],
      "source": [
        "def merge_and_count(sequence, temp_sequence, start, middle, end):\n",
        "    left_index, right_index, merged_index = start, middle + 1, start\n",
        "    inversion_total = 0\n",
        "\n",
        "    while left_index <= middle and right_index <= end:\n",
        "        if sequence[left_index] <= sequence[right_index]:\n",
        "            temp_sequence[merged_index] = sequence[left_index]\n",
        "            left_index += 1\n",
        "        else:\n",
        "            temp_sequence[merged_index] = sequence[right_index]\n",
        "            inversion_total += (middle - left_index + 1)\n",
        "            right_index += 1\n",
        "        merged_index += 1\n",
        "\n",
        "    while left_index <= middle:\n",
        "        temp_sequence[merged_index] = sequence[left_index]\n",
        "        left_index += 1\n",
        "        merged_index += 1\n",
        "\n",
        "    while right_index <= end:\n",
        "        temp_sequence[merged_index] = sequence[right_index]\n",
        "        right_index += 1\n",
        "        merged_index += 1\n",
        "\n",
        "    for index in range(start, end + 1):\n",
        "        sequence[index] = temp_sequence[index]\n",
        "\n",
        "    return inversion_total\n",
        "\n",
        "def merge_sort_and_count(sequence, temp_sequence, start, end):\n",
        "    if start >= end:\n",
        "        return 0\n",
        "\n",
        "    middle = (start + end) // 2\n",
        "    inversion_total = merge_sort_and_count(sequence, temp_sequence, start, middle)\n",
        "    inversion_total += merge_sort_and_count(sequence, temp_sequence, middle + 1, end)\n",
        "    inversion_total += merge_and_count(sequence, temp_sequence, start, middle, end)\n",
        "\n",
        "    return inversion_total\n",
        "\n",
        "def count_inversions_and_sort(sequence):\n",
        "    temp_sequence = sequence[:]\n",
        "    inversion_total = merge_sort_and_count(sequence, temp_sequence, 0, len(sequence) - 1)\n",
        "    return inversion_total, sequence\n",
        "\n",
        "size = int(input())\n",
        "sequence = [int(value) for value in input().split()]\n",
        "\n",
        "inversion_count, sorted_sequence = count_inversions_and_sort(sequence)\n",
        "\n",
        "print(inversion_count)\n",
        "print(*sorted_sequence)"
      ]
    },
    {
      "cell_type": "markdown",
      "source": [
        "Task B"
      ],
      "metadata": {
        "id": "aoVyuc6wHnM9"
      }
    },
    {
      "cell_type": "code",
      "source": [
        "size = int(input())\n",
        "numbers = input().split()\n",
        "\n",
        "for index in range(size):\n",
        "    numbers[index] = int(numbers[index])\n",
        "\n",
        "current_total = 0\n",
        "highest_total = 0\n",
        "largest_element = numbers[0]\n",
        "\n",
        "for index in range(size - 1):\n",
        "    largest_element = max(largest_element, numbers[index])\n",
        "    current_total = largest_element + numbers[index + 1] ** 2\n",
        "    highest_total = max(current_total, highest_total)\n",
        "\n",
        "print(highest_total)\n"
      ],
      "metadata": {
        "colab": {
          "base_uri": "https://localhost:8080/"
        },
        "id": "8CeZ3bIXHocq",
        "outputId": "bf06605e-e61b-4148-c04f-e5c9a1698632"
      },
      "execution_count": 1,
      "outputs": [
        {
          "output_type": "stream",
          "name": "stdout",
          "text": [
            "5\n",
            "4 3 1 5 6\n",
            "41\n"
          ]
        }
      ]
    },
    {
      "cell_type": "markdown",
      "source": [
        "Task C"
      ],
      "metadata": {
        "id": "bNEf3u20H0Dz"
      }
    },
    {
      "cell_type": "code",
      "source": [
        "def power_mod(base, exp, mod=107):\n",
        "    if exp == 0:\n",
        "        return 1\n",
        "\n",
        "    half_res = power_mod(base, exp // 2)\n",
        "    result = (half_res ** 2) % mod\n",
        "\n",
        "    if exp % 2 != 0:\n",
        "        result = (result * base) % mod\n",
        "\n",
        "    return result\n",
        "\n",
        "x, y = map(int, input().split())\n",
        "print(power_mod(x, y))"
      ],
      "metadata": {
        "id": "XZ87A9IJV0aT",
        "colab": {
          "base_uri": "https://localhost:8080/"
        },
        "outputId": "cc8e79a3-a576-43a8-cbf8-58ad699d963e"
      },
      "execution_count": 2,
      "outputs": [
        {
          "output_type": "stream",
          "name": "stdout",
          "text": [
            "100 3\n",
            "85\n"
          ]
        }
      ]
    },
    {
      "cell_type": "markdown",
      "source": [
        "Task D"
      ],
      "metadata": {
        "id": "IbnJ7ZB_H5Xw"
      }
    },
    {
      "cell_type": "code",
      "source": [
        "def mod_exp(x, y, mod_val):\n",
        "    res_val = 1\n",
        "    temp_val = x % mod_val\n",
        "    while y > 0:\n",
        "        if y % 2 == 1:\n",
        "            res_val = (res_val * temp_val) % mod_val\n",
        "        temp_val = (temp_val * temp_val) % mod_val\n",
        "        y //= 2\n",
        "    return res_val\n",
        "\n",
        "def mod_sum(x, y, mod_val):\n",
        "    if y == 1:\n",
        "        return x % mod_val\n",
        "    if y % 2 == 0:\n",
        "        half_val = mod_sum(x, y // 2, mod_val)\n",
        "        return (half_val * (1 + mod_exp(x, y // 2, mod_val))) % mod_val\n",
        "    else:\n",
        "        return (mod_sum(x, y - 1, mod_val) + mod_exp(x, y, mod_val)) % mod_val\n",
        "\n",
        "test_cases = int(input())\n",
        "for _ in range(test_cases):\n",
        "    num1, num2, num3 = map(int, input().split())\n",
        "    print(mod_sum(num1, num2, num3))"
      ],
      "metadata": {
        "colab": {
          "base_uri": "https://localhost:8080/"
        },
        "id": "_VcyCDdFH6QM",
        "outputId": "5dd62173-fa5f-49f5-b507-4a3efa96cbf6"
      },
      "execution_count": 3,
      "outputs": [
        {
          "output_type": "stream",
          "name": "stdout",
          "text": [
            "3\n",
            "2 5 1000\n",
            "62\n",
            "2 9 1000\n",
            "22\n",
            "1 100 30\n",
            "10\n"
          ]
        }
      ]
    },
    {
      "cell_type": "markdown",
      "source": [
        "Task E"
      ],
      "metadata": {
        "id": "y0SgLpw3IDsv"
      }
    },
    {
      "cell_type": "code",
      "source": [
        "def get_balanced_bst_order(arr):\n",
        "    if not arr:\n",
        "        return []\n",
        "\n",
        "    mid = len(arr) // 2\n",
        "    return [arr[mid]] + get_balanced_bst_order(arr[:mid]) + get_balanced_bst_order(arr[mid+1:])\n",
        "\n",
        "n = int(input().strip())\n",
        "arr = list(map(int, input().strip().split()))\n",
        "print(*get_balanced_bst_order(arr))"
      ],
      "metadata": {
        "colab": {
          "base_uri": "https://localhost:8080/"
        },
        "id": "q4TjV5fbIEma",
        "outputId": "3e91fb97-85ef-4e53-daf8-69a8ae3c262e"
      },
      "execution_count": 4,
      "outputs": [
        {
          "output_type": "stream",
          "name": "stdout",
          "text": [
            "5\n",
            "1 2 3 4 5\n",
            "3 2 1 5 4\n"
          ]
        }
      ]
    },
    {
      "cell_type": "markdown",
      "source": [
        "Task F"
      ],
      "metadata": {
        "id": "6qHm0GvmIMdf"
      }
    },
    {
      "cell_type": "code",
      "source": [
        "def pre_to_post(in_order, pre_order):\n",
        "    if in_order == []:\n",
        "        return []\n",
        "    root_node = pre_order[0]\n",
        "    root_index = in_order.index(root_node)\n",
        "    left_subtree = pre_to_post(in_order[:root_index], pre_order[1: root_index+1])\n",
        "    right_subtree = pre_to_post(in_order[root_index+1:], pre_order[root_index+1:])\n",
        "    return left_subtree + right_subtree + [root_node]\n",
        "\n",
        "num = int(input())\n",
        "in_order_trav = input().split()\n",
        "pre_order_trav = input().split()\n",
        "result = pre_to_post(in_order_trav, pre_order_trav)\n",
        "print(\" \".join(result))"
      ],
      "metadata": {
        "colab": {
          "base_uri": "https://localhost:8080/"
        },
        "id": "kn6Tc89RINQB",
        "outputId": "6b119165-a008-472a-cf0f-7fba78a844ab"
      },
      "execution_count": 5,
      "outputs": [
        {
          "output_type": "stream",
          "name": "stdout",
          "text": [
            "5\n",
            "4 2 5 1 3\n",
            "1 2 4 5 3\n",
            "4 5 2 3 1\n"
          ]
        }
      ]
    }
  ]
}
