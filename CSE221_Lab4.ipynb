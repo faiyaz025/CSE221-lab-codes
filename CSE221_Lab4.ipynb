{
  "nbformat": 4,
  "nbformat_minor": 0,
  "metadata": {
    "colab": {
      "provenance": [],
      "authorship_tag": "ABX9TyN1A7ZRsgXGI1I/9N5eZbNS",
      "include_colab_link": true
    },
    "kernelspec": {
      "name": "python3",
      "display_name": "Python 3"
    },
    "language_info": {
      "name": "python"
    }
  },
  "cells": [
    {
      "cell_type": "markdown",
      "metadata": {
        "id": "view-in-github",
        "colab_type": "text"
      },
      "source": [
        "<a href=\"https://colab.research.google.com/github/faiyaz025/CSE221-lab-codes/blob/main/CSE221_Lab4.ipynb\" target=\"_parent\"><img src=\"https://colab.research.google.com/assets/colab-badge.svg\" alt=\"Open In Colab\"/></a>"
      ]
    },
    {
      "cell_type": "markdown",
      "source": [
        "Task A"
      ],
      "metadata": {
        "id": "_8xQB_MlIm8m"
      }
    },
    {
      "cell_type": "code",
      "execution_count": null,
      "metadata": {
        "id": "LRV2dBYPIhqB"
      },
      "outputs": [],
      "source": [
        "def create_adjacency_matrix(N, M, edges):\n",
        "    matrix = [[0 for _ in range(N)] for _ in range(N)]\n",
        "    for edge in edges:\n",
        "        u, v, w = edge\n",
        "        matrix[u - 1][v - 1] = w\n",
        "    return matrix\n",
        "\n",
        "N, M = map(int, input().split())\n",
        "\n",
        "edges = []\n",
        "for _ in range(M):\n",
        "    u, v, w = map(int, input().split())\n",
        "    edges.append((u, v, w))\n",
        "\n",
        "adj_matrix = create_adjacency_matrix(N, M, edges)\n",
        "\n",
        "for row in adj_matrix:\n",
        "    print(\" \".join(map(str, row)))"
      ]
    },
    {
      "cell_type": "markdown",
      "source": [
        "Task B"
      ],
      "metadata": {
        "id": "ljtjqaXXIzzh"
      }
    },
    {
      "cell_type": "code",
      "source": [
        "def create_adjacency_list(N, M, u, v, w):\n",
        "    adj_list = {i: [] for i in range(1, N+1)}\n",
        "    for i in range(M):\n",
        "        adj_list[u[i]].append((v[i], w[i]))\n",
        "    return adj_list\n",
        "\n",
        "N, M = map(int, input().split())\n",
        "u = list(map(int, input().split()))\n",
        "v = list(map(int, input().split()))\n",
        "w = list(map(int, input().split()))\n",
        "\n",
        "adj_list = create_adjacency_list(N, M, u, v, w)\n",
        "\n",
        "for node in range(1, N+1):\n",
        "    print(f\"{node}: \" + \" \".join([f\"({dest}, {weight})\" for dest, weight in adj_list[node]]))"
      ],
      "metadata": {
        "id": "NNSqCC9AI0qe"
      },
      "execution_count": null,
      "outputs": []
    },
    {
      "cell_type": "markdown",
      "source": [
        "Task C"
      ],
      "metadata": {
        "id": "qYoJMdgKI6mr"
      }
    },
    {
      "cell_type": "code",
      "source": [
        "def create_adjacency_matrix(N, adj_list):\n",
        "    matrix = [[0] * N for _ in range(N)]\n",
        "    for i in range(N):\n",
        "        for neighbor in adj_list[i]:\n",
        "            matrix[i][neighbor] = 1\n",
        "    return matrix\n",
        "\n",
        "N = int(input())\n",
        "adj_list = []\n",
        "for _ in range(N):\n",
        "    data = list(map(int, input().split()))\n",
        "    adj_list.append(data[1:])  # We only need the adjacent nodes\n",
        "\n",
        "adj_matrix = create_adjacency_matrix(N, adj_list)\n",
        "\n",
        "for row in adj_matrix:\n",
        "    print(\" \".join(map(str, row)))"
      ],
      "metadata": {
        "id": "kfhvfgS0I7PV"
      },
      "execution_count": null,
      "outputs": []
    },
    {
      "cell_type": "markdown",
      "source": [
        "Task D"
      ],
      "metadata": {
        "id": "TE-8edXqI-go"
      }
    },
    {
      "cell_type": "code",
      "source": [
        "def eulerian_path_exists(N, M, u, v):\n",
        "    degree = [0] * N\n",
        "    for i in range(M):\n",
        "        degree[u[i] - 1] += 1\n",
        "        degree[v[i] - 1] += 1\n",
        "\n",
        "    odd_degree_count = sum(d % 2 != 0 for d in degree)\n",
        "\n",
        "    if odd_degree_count == 0 or odd_degree_count == 2:\n",
        "        return \"YES\"\n",
        "    else:\n",
        "        return \"NO\"\n",
        "\n",
        "N, M = map(int, input().split())\n",
        "u = list(map(int, input().split()))\n",
        "v = list(map(int, input().split()))\n",
        "\n",
        "result = eulerian_path_exists(N, M, u, v)\n",
        "\n",
        "print(result)"
      ],
      "metadata": {
        "id": "rQ8l_3nAI_G2"
      },
      "execution_count": null,
      "outputs": []
    },
    {
      "cell_type": "markdown",
      "source": [
        "Task E"
      ],
      "metadata": {
        "id": "sZjGjHmoJCMm"
      }
    },
    {
      "cell_type": "code",
      "source": [
        "def edge_queries(N, M, u, v):\n",
        "    indegree = [0] * N\n",
        "    outdegree = [0] * N\n",
        "\n",
        "    for i in range(M):\n",
        "        outdegree[u[i] - 1] += 1\n",
        "        indegree[v[i] - 1] += 1\n",
        "\n",
        "    result = [indegree[i] - outdegree[i] for i in range(N)]\n",
        "    return result\n",
        "\n",
        "N, M = map(int, input().split())\n",
        "u = list(map(int, input().split()))\n",
        "v = list(map(int, input().split()))\n",
        "\n",
        "result = edge_queries(N, M, u, v)\n",
        "print(\" \".join(map(str, result)))"
      ],
      "metadata": {
        "id": "fTOlMbOSJC6Y"
      },
      "execution_count": null,
      "outputs": []
    },
    {
      "cell_type": "markdown",
      "source": [
        "Task F"
      ],
      "metadata": {
        "id": "BoD1AwcoJHL0"
      }
    },
    {
      "cell_type": "code",
      "source": [
        "def king_moves(N, x, y):\n",
        "    moves = []\n",
        "    directions = [(-1, 0), (1, 0), (0, -1), (0, 1), (-1, -1), (-1, 1), (1, -1), (1, 1)]\n",
        "\n",
        "    for dx, dy in directions:\n",
        "        nx, ny = x + dx, y + dy\n",
        "        if 1 <= nx <= N and 1 <= ny <= N:\n",
        "            moves.append((nx, ny))\n",
        "\n",
        "    moves.sort()\n",
        "    return len(moves), moves\n",
        "\n",
        "N = int(input())\n",
        "x, y = input().split()\n",
        "x = int(x)\n",
        "y = int(y)\n",
        "\n",
        "K, valid_moves = king_moves(N, x, y)\n",
        "\n",
        "print(K)\n",
        "for move in valid_moves:\n",
        "    print(move[0], move[1])"
      ],
      "metadata": {
        "id": "X5X1FG5bJILF"
      },
      "execution_count": null,
      "outputs": []
    },
    {
      "cell_type": "markdown",
      "source": [
        "Task G"
      ],
      "metadata": {
        "id": "4kw_U3IVJLFd"
      }
    },
    {
      "cell_type": "code",
      "source": [
        "import math\n",
        "\n",
        "def gcd(a, b):\n",
        "    while b:\n",
        "        a, b = b, a % b\n",
        "    return a\n",
        "\n",
        "def coprime_graph(N):\n",
        "    graph = {i: [] for i in range(1, N+1)}\n",
        "    for i in range(1, N+1):\n",
        "        for j in range(i+1, N+1):\n",
        "            if gcd(i, j) == 1:\n",
        "                graph[i].append(j)\n",
        "                graph[j].append(i)\n",
        "    return graph\n",
        "\n",
        "def query_result(graph, X, K):\n",
        "    neighbors = sorted(graph[X])\n",
        "    if K <= len(neighbors):\n",
        "        return neighbors[K-1]\n",
        "    else:\n",
        "        return -1\n",
        "\n",
        "# Input\n",
        "N, Q = input().split()\n",
        "N = int(N)\n",
        "Q = int(Q)\n",
        "graph = coprime_graph(N)\n",
        "\n",
        "for _ in range(Q):\n",
        "    X, K = input().split()\n",
        "    X = int(X)\n",
        "    K = int(K)\n",
        "    print(query_result(graph, X, K))"
      ],
      "metadata": {
        "id": "FckCRHhjJL1E"
      },
      "execution_count": null,
      "outputs": []
    }
  ]
}