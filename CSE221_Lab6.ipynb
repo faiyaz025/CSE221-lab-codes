{
  "nbformat": 4,
  "nbformat_minor": 0,
  "metadata": {
    "colab": {
      "provenance": [],
      "authorship_tag": "ABX9TyNlkvjc+ElKomLJmGVaVAPc",
      "include_colab_link": true
    },
    "kernelspec": {
      "name": "python3",
      "display_name": "Python 3"
    },
    "language_info": {
      "name": "python"
    }
  },
  "cells": [
    {
      "cell_type": "markdown",
      "metadata": {
        "id": "view-in-github",
        "colab_type": "text"
      },
      "source": [
        "<a href=\"https://colab.research.google.com/github/faiyaz025/CSE221-lab-codes/blob/main/CSE221_Lab6.ipynb\" target=\"_parent\"><img src=\"https://colab.research.google.com/assets/colab-badge.svg\" alt=\"Open In Colab\"/></a>"
      ]
    },
    {
      "cell_type": "markdown",
      "source": [
        "Task A"
      ],
      "metadata": {
        "id": "ClZuzu9JKuxZ"
      }
    },
    {
      "cell_type": "code",
      "execution_count": null,
      "metadata": {
        "id": "DRZtG1jaKq9r"
      },
      "outputs": [],
      "source": [
        "from collections import deque\n",
        "\n",
        "def build_graph(node_count, edge_count):\n",
        "    graph = {i: [] for i in range(1, node_count + 1)}\n",
        "    indeg = [0] * (node_count + 1)\n",
        "\n",
        "    for _ in range(edge_count):\n",
        "        start, end = map(int, input().split())\n",
        "        graph[start].append(end)\n",
        "        indeg[end] += 1\n",
        "\n",
        "    return graph, indeg\n",
        "\n",
        "def topological_sort(node_count, graph, indeg):\n",
        "    queue = deque([node for node in range(1, node_count + 1) if indeg[node] == 0])\n",
        "    sorted_order = []\n",
        "\n",
        "    while queue:\n",
        "        current = queue.popleft()\n",
        "        sorted_order.append(current)\n",
        "\n",
        "        for neighbor in graph[current]:\n",
        "            indeg[neighbor] -= 1\n",
        "            if indeg[neighbor] == 0:\n",
        "                queue.append(neighbor)\n",
        "\n",
        "    return sorted_order if len(sorted_order) == node_count else None\n",
        "\n",
        "def main():\n",
        "    nodes, edges = map(int, input().split())\n",
        "    graph, indegree = build_graph(nodes, edges)\n",
        "    order = topological_sort(nodes, graph, indegree)\n",
        "\n",
        "    if order:\n",
        "        print(*order)\n",
        "    else:\n",
        "        print(-1)\n",
        "\n",
        "if __name__ == \"__main__\":\n",
        "    main()"
      ]
    },
    {
      "cell_type": "markdown",
      "source": [
        "Task B"
      ],
      "metadata": {
        "id": "TOa4_Q_-K21Q"
      }
    },
    {
      "cell_type": "code",
      "source": [
        "from collections import deque\n",
        "\n",
        "def create_graph(num_nodes, num_edges):\n",
        "    graph = {i: [] for i in range(1, num_nodes + 1)}\n",
        "    for _ in range(num_edges):\n",
        "        u, v = map(int, input().split())\n",
        "        graph[u].append(v)\n",
        "        graph[v].append(u)\n",
        "    return graph\n",
        "\n",
        "def bfs_group_size(start, graph, visited, group):\n",
        "    queue = deque([start])\n",
        "    visited[start] = True\n",
        "    group[start] = 0\n",
        "    count = [1, 0]  # count[0] and count[1] for two groups\n",
        "\n",
        "    while queue:\n",
        "        node = queue.popleft()\n",
        "        for neighbor in graph[node]:\n",
        "            if not visited[neighbor]:\n",
        "                group[neighbor] = 1 - group[node]\n",
        "                count[group[neighbor]] += 1\n",
        "                visited[neighbor] = True\n",
        "                queue.append(neighbor)\n",
        "    return max(count)\n",
        "\n",
        "def max_group_size(n, graph):\n",
        "    visited = [False] * (n + 1)\n",
        "    group = [-1] * (n + 1)\n",
        "    total = 0\n",
        "\n",
        "    for node in range(1, n + 1):\n",
        "        if not visited[node]:\n",
        "            total += bfs_group_size(node, graph, visited, group)\n",
        "\n",
        "    return total\n",
        "\n",
        "def main():\n",
        "    n, m = map(int, input().split())\n",
        "    graph = create_graph(n, m)\n",
        "    result = max_group_size(n, graph)\n",
        "    print(result)\n",
        "\n",
        "if __name__ == \"__main__\":\n",
        "    main()"
      ],
      "metadata": {
        "id": "qYu_VrH-K3jo"
      },
      "execution_count": null,
      "outputs": []
    },
    {
      "cell_type": "markdown",
      "source": [
        "Task C"
      ],
      "metadata": {
        "id": "Y3MrckR0K8tC"
      }
    },
    {
      "cell_type": "code",
      "source": [
        "from collections import deque\n",
        "\n",
        "def create_graph(num_nodes, num_edges):\n",
        "    graph = {i: [] for i in range(1, num_nodes + 1)}\n",
        "    for _ in range(num_edges):\n",
        "        u, v = map(int, input().split())\n",
        "        graph[u].append(v)\n",
        "        graph[v].append(u)\n",
        "    return graph\n",
        "\n",
        "def bfs_group_size(start, graph, visited, group):\n",
        "    queue = deque([start])\n",
        "    visited[start] = True\n",
        "    group[start] = 0\n",
        "    count = [1, 0]  # count[0] and count[1] for two groups\n",
        "\n",
        "    while queue:\n",
        "        node = queue.popleft()\n",
        "        for neighbor in graph[node]:\n",
        "            if not visited[neighbor]:\n",
        "                group[neighbor] = 1 - group[node]\n",
        "                count[group[neighbor]] += 1\n",
        "                visited[neighbor] = True\n",
        "                queue.append(neighbor)\n",
        "    return max(count)\n",
        "\n",
        "def max_group_size(n, graph):\n",
        "    visited = [False] * (n + 1)\n",
        "    group = [-1] * (n + 1)\n",
        "    total = 0\n",
        "\n",
        "    for node in range(1, n + 1):\n",
        "        if not visited[node]:\n",
        "            total += bfs_group_size(node, graph, visited, group)\n",
        "\n",
        "    return total\n",
        "\n",
        "def main():\n",
        "    n, m = map(int, input().split())\n",
        "    graph = create_graph(n, m)\n",
        "    result = max_group_size(n, graph)\n",
        "    print(result)\n",
        "\n",
        "if __name__ == \"__main__\":\n",
        "    main()"
      ],
      "metadata": {
        "id": "0i5hSpQVK9Px"
      },
      "execution_count": null,
      "outputs": []
    },
    {
      "cell_type": "markdown",
      "source": [
        "Task D"
      ],
      "metadata": {
        "id": "88qo63jfLAyB"
      }
    },
    {
      "cell_type": "code",
      "source": [
        "import sys\n",
        "from collections import deque\n",
        "\n",
        "input = sys.stdin.readline\n",
        "\n",
        "num_nodes, root = map(int, input().split())\n",
        "tree = [[] for _ in range(num_nodes + 1)]\n",
        "\n",
        "for _ in range(num_nodes - 1):\n",
        "    u, v = map(int, input().split())\n",
        "    tree[u].append(v)\n",
        "    tree[v].append(u)\n",
        "\n",
        "subtree_size = [0] * (num_nodes + 1)\n",
        "visited = [False] * (num_nodes + 1)\n",
        "\n",
        "def compute_subtree_sizes(start):\n",
        "    stack = deque()\n",
        "    stack.append((start, -1))\n",
        "\n",
        "    post_order = []\n",
        "\n",
        "    while stack:\n",
        "        node, parent = stack.pop()\n",
        "        post_order.append((node, parent))\n",
        "        for neighbor in tree[node]:\n",
        "            if neighbor != parent:\n",
        "                stack.append((neighbor, node))\n",
        "\n",
        "\n",
        "    for node, parent in reversed(post_order):\n",
        "        subtree_size[node] = 1\n",
        "        for neighbor in tree[node]:\n",
        "            if neighbor != parent:\n",
        "                subtree_size[node] += subtree_size[neighbor]\n",
        "\n",
        "compute_subtree_sizes(root)\n",
        "\n",
        "q = int(input())\n",
        "for _ in range(q):\n",
        "    query = int(input())\n",
        "    print(subtree_size[query])"
      ],
      "metadata": {
        "id": "ylOcqyInLBWQ"
      },
      "execution_count": null,
      "outputs": []
    },
    {
      "cell_type": "markdown",
      "source": [
        "Task E"
      ],
      "metadata": {
        "id": "41UZAjGbLEGH"
      }
    },
    {
      "cell_type": "code",
      "source": [
        "from collections import deque\n",
        "\n",
        "def farthest_node_bfs(start_node, graph):\n",
        "    total_nodes = len(graph)\n",
        "    distance = [-1] * total_nodes\n",
        "    distance[start_node] = 0\n",
        "\n",
        "    queue = deque()\n",
        "    queue.append(start_node)\n",
        "\n",
        "    farthest = start_node\n",
        "\n",
        "    while queue:\n",
        "        current = queue.popleft()\n",
        "        for neighbor in graph[current]:\n",
        "            if distance[neighbor] == -1:\n",
        "                distance[neighbor] = distance[current] + 1\n",
        "                queue.append(neighbor)\n",
        "                if distance[neighbor] > distance[farthest]:\n",
        "                    farthest = neighbor\n",
        "\n",
        "    return farthest, distance[farthest]\n",
        "\n",
        "num_vertices = int(input())\n",
        "tree = [[] for _ in range(num_vertices + 1)]\n",
        "\n",
        "for _ in range(num_vertices - 1):\n",
        "    node_a, node_b = map(int, input().split())\n",
        "    tree[node_a].append(node_b)\n",
        "    tree[node_b].append(node_a)\n",
        "\n",
        "first_extreme, _ = farthest_node_bfs(1, tree)\n",
        "second_extreme, tree_diameter = farthest_node_bfs(first_extreme, tree)\n",
        "\n",
        "print(tree_diameter)\n",
        "print(first_extreme, second_extreme)"
      ],
      "metadata": {
        "id": "YJtxHYykLFSB"
      },
      "execution_count": null,
      "outputs": []
    },
    {
      "cell_type": "markdown",
      "source": [
        "Task F"
      ],
      "metadata": {
        "id": "QQ7kPPTHLH6o"
      }
    },
    {
      "cell_type": "code",
      "source": [
        "import heapq\n",
        "\n",
        "word_count = int(input())\n",
        "graph = {}\n",
        "word_list = []\n",
        "in_deg = {}\n",
        "is_valid = True\n",
        "\n",
        "for _ in range(word_count):\n",
        "    word = input()\n",
        "    word_list.append(word)\n",
        "    for letter in word:\n",
        "        if letter not in graph:\n",
        "            graph[letter] = []\n",
        "            in_deg[letter] = 0\n",
        "\n",
        "for i in range(word_count - 1):\n",
        "    first = word_list[i]\n",
        "    second = word_list[i + 1]\n",
        "    limit = min(len(first), len(second))\n",
        "    mismatch_found = False\n",
        "\n",
        "    for j in range(limit):\n",
        "        if first[j] != second[j]:\n",
        "            if second[j] not in graph[first[j]]:\n",
        "                graph[first[j]].append(second[j])\n",
        "                in_deg[second[j]] += 1\n",
        "            mismatch_found = True\n",
        "            break\n",
        "\n",
        "    if not mismatch_found and len(first) > len(second):\n",
        "        print(-1)\n",
        "        is_valid = False\n",
        "        break\n",
        "if is_valid:\n",
        "    min_heap = []\n",
        "    for ch in graph:\n",
        "        if in_deg[ch] == 0:\n",
        "            heapq.heappush(min_heap, ch)\n",
        "\n",
        "    result = \"\"\n",
        "    while min_heap:\n",
        "        curr = heapq.heappop(min_heap)\n",
        "        result += curr\n",
        "        for neighbor in graph[curr]:\n",
        "            in_deg[neighbor] -= 1\n",
        "            if in_deg[neighbor] == 0:\n",
        "                heapq.heappush(min_heap, neighbor)\n",
        "\n",
        "    if len(result) != len(graph):\n",
        "        print(-1)\n",
        "    else:\n",
        "        print(result)"
      ],
      "metadata": {
        "id": "LRnbsUJVLIiD"
      },
      "execution_count": null,
      "outputs": []
    }
  ]
}