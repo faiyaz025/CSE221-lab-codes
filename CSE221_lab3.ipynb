{
  "nbformat": 4,
  "nbformat_minor": 0,
  "metadata": {
    "colab": {
      "provenance": [],
      "authorship_tag": "ABX9TyMpqQyxsE+5BcsWnQG4PsMH",
      "include_colab_link": true
    },
    "kernelspec": {
      "name": "python3",
      "display_name": "Python 3"
    },
    "language_info": {
      "name": "python"
    }
  },
  "cells": [
    {
      "cell_type": "markdown",
      "metadata": {
        "id": "view-in-github",
        "colab_type": "text"
      },
      "source": [
        "<a href=\"https://colab.research.google.com/github/faiyaz025/CSE221-lab-codes/blob/main/CSE221_lab3.ipynb\" target=\"_parent\"><img src=\"https://colab.research.google.com/assets/colab-badge.svg\" alt=\"Open In Colab\"/></a>"
      ]
    },
    {
      "cell_type": "markdown",
      "source": [
        "Task A"
      ],
      "metadata": {
        "id": "7QWFnJfwn5wy"
      }
    },
    {
      "cell_type": "code",
      "execution_count": null,
      "metadata": {
        "id": "Rx39W2LflNJc",
        "colab": {
          "base_uri": "https://localhost:8080/"
        },
        "outputId": "e94c1013-99b8-465f-9ccb-9485247405b9"
      },
      "outputs": [
        {
          "output_type": "stream",
          "name": "stdout",
          "text": [
            "5\n",
            "1 2 5 4 3\n",
            "3\n",
            "1 2 3 4 5\n"
          ]
        }
      ],
      "source": [
        "def merge_and_count(sequence, temp_sequence, start, middle, end):\n",
        "    left_index, right_index, merged_index = start, middle + 1, start\n",
        "    inversion_total = 0\n",
        "\n",
        "    while left_index <= middle and right_index <= end:\n",
        "        if sequence[left_index] <= sequence[right_index]:\n",
        "            temp_sequence[merged_index] = sequence[left_index]\n",
        "            left_index += 1\n",
        "        else:\n",
        "            temp_sequence[merged_index] = sequence[right_index]\n",
        "            inversion_total += (middle - left_index + 1)\n",
        "            right_index += 1\n",
        "        merged_index += 1\n",
        "\n",
        "    while left_index <= middle:\n",
        "        temp_sequence[merged_index] = sequence[left_index]\n",
        "        left_index += 1\n",
        "        merged_index += 1\n",
        "\n",
        "    while right_index <= end:\n",
        "        temp_sequence[merged_index] = sequence[right_index]\n",
        "        right_index += 1\n",
        "        merged_index += 1\n",
        "\n",
        "    for index in range(start, end + 1):\n",
        "        sequence[index] = temp_sequence[index]\n",
        "\n",
        "    return inversion_total\n",
        "\n",
        "def merge_sort_and_count(sequence, temp_sequence, start, end):\n",
        "    if start >= end:\n",
        "        return 0\n",
        "\n",
        "    middle = (start + end) // 2\n",
        "    inversion_total = merge_sort_and_count(sequence, temp_sequence, start, middle)\n",
        "    inversion_total += merge_sort_and_count(sequence, temp_sequence, middle + 1, end)\n",
        "    inversion_total += merge_and_count(sequence, temp_sequence, start, middle, end)\n",
        "\n",
        "    return inversion_total\n",
        "\n",
        "def count_inversions_and_sort(sequence):\n",
        "    temp_sequence = sequence[:]\n",
        "    inversion_total = merge_sort_and_count(sequence, temp_sequence, 0, len(sequence) - 1)\n",
        "    return inversion_total, sequence\n",
        "\n",
        "size = int(input())\n",
        "sequence = [int(value) for value in input().split()]\n",
        "\n",
        "inversion_count, sorted_sequence = count_inversions_and_sort(sequence)\n",
        "\n",
        "print(inversion_count)\n",
        "print(*sorted_sequence)"
      ]
    },
    {
      "cell_type": "code",
      "source": [],
      "metadata": {
        "id": "XZ87A9IJV0aT"
      },
      "execution_count": null,
      "outputs": []
    }
  ]
}